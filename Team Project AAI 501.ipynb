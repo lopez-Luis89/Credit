{
 "cells": [
  {
   "cell_type": "code",
   "execution_count": null,
   "metadata": {},
   "outputs": [
    {
     "ename": "",
     "evalue": "",
     "output_type": "error",
     "traceback": [
      "\u001b[1;31mRunning cells with 'Python 3.12.1' requires the ipykernel package.\n",
      "\u001b[1;31mRun the following command to install 'ipykernel' into the Python environment. \n",
      "\u001b[1;31mCommand: '/opt/homebrew/bin/python3.12 -m pip install ipykernel -U --user --force-reinstall'"
     ]
    }
   ],
   "source": [
    "import pandas as pd\n",
    "import numpy as np\n",
    "import matplotlib.pyplot as plt\n",
    "import seaborn as sns\n",
    "from sklearn.model_selection import train_test_split\n",
    "from sklearn.preprocessing import StandardScaler\n",
    "from sklearn.naive_bayes import GaussianNB\n",
    "from sklearn.metrics import confusion_matrix\n",
    "from sklearn.metrics import precision_score, recall_score, f1_score\n",
    "from sklearn.metrics import confusion_matrix, ConfusionMatrixDisplay\n",
    "from sklearn.metrics import roc_curve, auc\n",
    "from sklearn.model_selection import GridSearchCV\n",
    "from imblearn.over_sampling import SMOTE\n",
    "from sklearn.ensemble import GradientBoostingClassifier\n"
   ]
  },
  {
   "cell_type": "code",
   "execution_count": null,
   "metadata": {},
   "outputs": [
    {
     "ename": "",
     "evalue": "",
     "output_type": "error",
     "traceback": [
      "\u001b[1;31mRunning cells with 'Python 3.12.1' requires the ipykernel package.\n",
      "\u001b[1;31mRun the following command to install 'ipykernel' into the Python environment. \n",
      "\u001b[1;31mCommand: '/opt/homebrew/bin/python3.12 -m pip install ipykernel -U --user --force-reinstall'"
     ]
    }
   ],
   "source": [
    "df = pd.read_csv('D:\\Artificial Intelligence\\AAI-501\\Team Project AAI 501\\german.data', sep='\\s+')\n",
    "df.head(2)"
   ]
  },
  {
   "cell_type": "code",
   "execution_count": null,
   "metadata": {},
   "outputs": [
    {
     "ename": "",
     "evalue": "",
     "output_type": "error",
     "traceback": [
      "\u001b[1;31mRunning cells with 'Python 3.12.1' requires the ipykernel package.\n",
      "\u001b[1;31mRun the following command to install 'ipykernel' into the Python environment. \n",
      "\u001b[1;31mCommand: '/opt/homebrew/bin/python3.12 -m pip install ipykernel -U --user --force-reinstall'"
     ]
    }
   ],
   "source": [
    "column_names = ['checking_account', 'duration_month', 'credit_history', 'credit_purpose','credit_amount','savings_account','present_employment','disposable_income_percent',\n",
    " 'status_sex','debtors','residence_since','property','age','other_installments', 'housing','credits_at_current_bank','job','dependants','telephone', 'foreign_worker','class']"
   ]
  },
  {
   "cell_type": "code",
   "execution_count": null,
   "metadata": {},
   "outputs": [
    {
     "ename": "",
     "evalue": "",
     "output_type": "error",
     "traceback": [
      "\u001b[1;31mRunning cells with 'Python 3.12.1' requires the ipykernel package.\n",
      "\u001b[1;31mRun the following command to install 'ipykernel' into the Python environment. \n",
      "\u001b[1;31mCommand: '/opt/homebrew/bin/python3.12 -m pip install ipykernel -U --user --force-reinstall'"
     ]
    }
   ],
   "source": [
    "df.columns = column_names\n",
    "df.head(2)"
   ]
  },
  {
   "cell_type": "code",
   "execution_count": null,
   "metadata": {},
   "outputs": [
    {
     "ename": "",
     "evalue": "",
     "output_type": "error",
     "traceback": [
      "\u001b[1;31mRunning cells with 'Python 3.12.1' requires the ipykernel package.\n",
      "\u001b[1;31mRun the following command to install 'ipykernel' into the Python environment. \n",
      "\u001b[1;31mCommand: '/opt/homebrew/bin/python3.12 -m pip install ipykernel -U --user --force-reinstall'"
     ]
    }
   ],
   "source": [
    "df.info()"
   ]
  },
  {
   "cell_type": "code",
   "execution_count": null,
   "metadata": {},
   "outputs": [
    {
     "ename": "",
     "evalue": "",
     "output_type": "error",
     "traceback": [
      "\u001b[1;31mRunning cells with 'Python 3.12.1' requires the ipykernel package.\n",
      "\u001b[1;31mRun the following command to install 'ipykernel' into the Python environment. \n",
      "\u001b[1;31mCommand: '/opt/homebrew/bin/python3.12 -m pip install ipykernel -U --user --force-reinstall'"
     ]
    }
   ],
   "source": [
    "df.describe()"
   ]
  },
  {
   "cell_type": "code",
   "execution_count": null,
   "metadata": {},
   "outputs": [
    {
     "ename": "",
     "evalue": "",
     "output_type": "error",
     "traceback": [
      "\u001b[1;31mRunning cells with 'Python 3.12.1' requires the ipykernel package.\n",
      "\u001b[1;31mRun the following command to install 'ipykernel' into the Python environment. \n",
      "\u001b[1;31mCommand: '/opt/homebrew/bin/python3.12 -m pip install ipykernel -U --user --force-reinstall'"
     ]
    }
   ],
   "source": [
    "for i in df.columns:\n",
    "    if df[i].dtype == 'int64':\n",
    "        fig, ax = plt.subplots(1, 2, figsize=(17, 3))\n",
    "\n",
    "        sns.histplot(data=df, x=i, bins=10, ax=ax[0], hue='class')\n",
    "        ax[0].set_title(f'{i} Histogram')\n",
    "      \n",
    "\n",
    "        sns.boxplot(data=df, x=i, ax=ax[1])\n",
    "        ax[1].set_title(f'{i} Boxplot')\n",
    "   \n",
    "        plt.tight_layout()\n",
    "        plt.show();"
   ]
  },
  {
   "cell_type": "code",
   "execution_count": null,
   "metadata": {},
   "outputs": [
    {
     "ename": "",
     "evalue": "",
     "output_type": "error",
     "traceback": [
      "\u001b[1;31mRunning cells with 'Python 3.12.1' requires the ipykernel package.\n",
      "\u001b[1;31mRun the following command to install 'ipykernel' into the Python environment. \n",
      "\u001b[1;31mCommand: '/opt/homebrew/bin/python3.12 -m pip install ipykernel -U --user --force-reinstall'"
     ]
    }
   ],
   "source": [
    "object_columns = df.select_dtypes(include='object').columns\n",
    "\n",
    "num_rows = (len(object_columns) + 1) // 2  \n",
    "\n",
    "fig, axes = plt.subplots(num_rows, 2, figsize=(12, 3*num_rows))\n",
    "\n",
    "axes = axes.flatten()\n",
    "\n",
    "for i, col in enumerate(object_columns):\n",
    "    df[col].value_counts().plot(kind='bar', ax=axes[i])\n",
    "    axes[i].set_title(col)\n",
    "\n",
    "for i in range(len(object_columns), len(axes)):\n",
    "    axes[i].axis('off')\n",
    "\n",
    "plt.tight_layout()\n",
    "plt.show()"
   ]
  },
  {
   "cell_type": "code",
   "execution_count": null,
   "metadata": {},
   "outputs": [
    {
     "ename": "",
     "evalue": "",
     "output_type": "error",
     "traceback": [
      "\u001b[1;31mRunning cells with 'Python 3.12.1' requires the ipykernel package.\n",
      "\u001b[1;31mRun the following command to install 'ipykernel' into the Python environment. \n",
      "\u001b[1;31mCommand: '/opt/homebrew/bin/python3.12 -m pip install ipykernel -U --user --force-reinstall'"
     ]
    }
   ],
   "source": [
    "corr_matr = df.corr()\n",
    "plt.figure(figsize=(8,8))\n",
    "sns.heatmap(corr_matr, cmap= 'cool', annot= True)"
   ]
  },
  {
   "cell_type": "markdown",
   "metadata": {},
   "source": [
    "### Analayzing Good vs Bad Credit"
   ]
  },
  {
   "cell_type": "code",
   "execution_count": null,
   "metadata": {},
   "outputs": [
    {
     "ename": "",
     "evalue": "",
     "output_type": "error",
     "traceback": [
      "\u001b[1;31mRunning cells with 'Python 3.12.1' requires the ipykernel package.\n",
      "\u001b[1;31mRun the following command to install 'ipykernel' into the Python environment. \n",
      "\u001b[1;31mCommand: '/opt/homebrew/bin/python3.12 -m pip install ipykernel -U --user --force-reinstall'"
     ]
    }
   ],
   "source": [
    "bad_credit = df[df['class'] == 2]\n",
    "good_credit = df[df['class'] == 1]"
   ]
  },
  {
   "cell_type": "code",
   "execution_count": null,
   "metadata": {},
   "outputs": [
    {
     "ename": "",
     "evalue": "",
     "output_type": "error",
     "traceback": [
      "\u001b[1;31mRunning cells with 'Python 3.12.1' requires the ipykernel package.\n",
      "\u001b[1;31mRun the following command to install 'ipykernel' into the Python environment. \n",
      "\u001b[1;31mCommand: '/opt/homebrew/bin/python3.12 -m pip install ipykernel -U --user --force-reinstall'"
     ]
    }
   ],
   "source": [
    "bad_credit.groupby('credits_at_current_bank').mean()"
   ]
  },
  {
   "cell_type": "code",
   "execution_count": null,
   "metadata": {},
   "outputs": [
    {
     "ename": "",
     "evalue": "",
     "output_type": "error",
     "traceback": [
      "\u001b[1;31mRunning cells with 'Python 3.12.1' requires the ipykernel package.\n",
      "\u001b[1;31mRun the following command to install 'ipykernel' into the Python environment. \n",
      "\u001b[1;31mCommand: '/opt/homebrew/bin/python3.12 -m pip install ipykernel -U --user --force-reinstall'"
     ]
    }
   ],
   "source": [
    "good_credit.groupby('credits_at_current_bank').mean()"
   ]
  },
  {
   "cell_type": "markdown",
   "metadata": {},
   "source": [
    "***Observations:***\n",
    "- The **average credit amount** in people with bad credit tends to me more in general in comparison to people with good credit. In other words, bad credit has more accounts open and ask for more money\n",
    "- The **average age** of people with 4 or more credit accounts at the current bank is 53 years old with good credit and 34.5 years old with bad credit \n",
    "- We can drop the dependants and residence_since. These features are very similar between people with good and bad credit. \n"
   ]
  },
  {
   "cell_type": "code",
   "execution_count": null,
   "metadata": {},
   "outputs": [
    {
     "ename": "",
     "evalue": "",
     "output_type": "error",
     "traceback": [
      "\u001b[1;31mRunning cells with 'Python 3.12.1' requires the ipykernel package.\n",
      "\u001b[1;31mRun the following command to install 'ipykernel' into the Python environment. \n",
      "\u001b[1;31mCommand: '/opt/homebrew/bin/python3.12 -m pip install ipykernel -U --user --force-reinstall'"
     ]
    }
   ],
   "source": [
    "df = df.drop(columns=['dependants', 'residence_since'], axis= 1)"
   ]
  },
  {
   "cell_type": "markdown",
   "metadata": {},
   "source": [
    "**Observation:**\n",
    "\n",
    "I am dropping Dependats and residence since there is no strong correlation among other variables."
   ]
  },
  {
   "cell_type": "markdown",
   "metadata": {},
   "source": [
    "**Savings account/bonds**\n",
    " \n",
    " A61 :          ... <  100 DM\n",
    " \n",
    " A62 :   100 <= ... <  500 DM\n",
    " \n",
    " A63 :   500 <= ... < 1000 DM\n",
    " \n",
    " A64 :          .. >= 1000 DM\n",
    "\n",
    "A65 :   unknown/ no savings account\n",
    "\n",
    "**Status of existing checking account**\n",
    "\n",
    "A11 :      ... <    0 DM\n",
    "\n",
    "A12 : 0 <= ... <  200 DM\n",
    "\n",
    "A13 :      ... >= 200 DM /\n",
    "\n",
    "salary assignments for at least 1 year\n",
    "\n",
    "A14 : no checking account"
   ]
  },
  {
   "cell_type": "code",
   "execution_count": null,
   "metadata": {},
   "outputs": [
    {
     "ename": "",
     "evalue": "",
     "output_type": "error",
     "traceback": [
      "\u001b[1;31mRunning cells with 'Python 3.12.1' requires the ipykernel package.\n",
      "\u001b[1;31mRun the following command to install 'ipykernel' into the Python environment. \n",
      "\u001b[1;31mCommand: '/opt/homebrew/bin/python3.12 -m pip install ipykernel -U --user --force-reinstall'"
     ]
    }
   ],
   "source": [
    "print(f'Good credit:\\n{good_credit.savings_account.value_counts()}')\n",
    "print(f'Bad Credit:\\n{bad_credit.savings_account.value_counts()}')\n",
    "print(f'Good credit:\\n{good_credit.checking_account.value_counts()}')\n",
    "print(f'Bad Credit:\\n{bad_credit.checking_account.value_counts()}')"
   ]
  },
  {
   "cell_type": "markdown",
   "metadata": {},
   "source": [
    "***Observations:***\n",
    "- The majority of people with good credit do not have checking account at the current bank, while people with bad credit have more accoutns open but have less than 200 DM\n",
    "- For the people that do have an account open, people with good credit have more than 200 DM in their account\n",
    "\n",
    "***Maybe We should consider using one-hot encoding on checking and savings account***"
   ]
  },
  {
   "cell_type": "code",
   "execution_count": null,
   "metadata": {},
   "outputs": [
    {
     "ename": "",
     "evalue": "",
     "output_type": "error",
     "traceback": [
      "\u001b[1;31mRunning cells with 'Python 3.12.1' requires the ipykernel package.\n",
      "\u001b[1;31mRun the following command to install 'ipykernel' into the Python environment. \n",
      "\u001b[1;31mCommand: '/opt/homebrew/bin/python3.12 -m pip install ipykernel -U --user --force-reinstall'"
     ]
    }
   ],
   "source": [
    "sns.countplot(x ='credit_purpose',hue='class', data= df)\n",
    "plt.title('Credit purpose per class')\n",
    "plt.show();"
   ]
  },
  {
   "cell_type": "markdown",
   "metadata": {},
   "source": [
    "Attribute 4:  (qualitative)\n",
    "\n",
    "Purpose\n",
    "\n",
    "A40 : car (new)\n",
    "\n",
    "A41 : car (used)\n",
    "\n",
    "A42 : furniture/equipment\n",
    "\n",
    "A43 : radio/television\n",
    "\n",
    "A44 : domestic appliances\n",
    "\n",
    "A45 : repairs\n",
    "\n",
    "A46 : education\n",
    "\n",
    "A47 : (vacation - does not exist?)\n",
    "\n",
    "A48 : retraining\n",
    "\n",
    "A49 : business\n",
    "\n",
    "A410 : others\n",
    "\n",
    "\n",
    "***Observations:***\n",
    "- Class 1(good) use their credit for radio and televisions, cars and furniture/equipment, while people with bad credit tend to use their credit mostly for purchasing a car\n",
    "\n",
    "***We should use one-hot encoding for credit purpose***"
   ]
  },
  {
   "cell_type": "code",
   "execution_count": null,
   "metadata": {},
   "outputs": [
    {
     "ename": "",
     "evalue": "",
     "output_type": "error",
     "traceback": [
      "\u001b[1;31mRunning cells with 'Python 3.12.1' requires the ipykernel package.\n",
      "\u001b[1;31mRun the following command to install 'ipykernel' into the Python environment. \n",
      "\u001b[1;31mCommand: '/opt/homebrew/bin/python3.12 -m pip install ipykernel -U --user --force-reinstall'"
     ]
    }
   ],
   "source": [
    "df_encoded = pd.get_dummies(df, columns=['credit_purpose'], prefix= 'credit_purpose')\n"
   ]
  },
  {
   "cell_type": "code",
   "execution_count": null,
   "metadata": {},
   "outputs": [
    {
     "ename": "",
     "evalue": "",
     "output_type": "error",
     "traceback": [
      "\u001b[1;31mRunning cells with 'Python 3.12.1' requires the ipykernel package.\n",
      "\u001b[1;31mRun the following command to install 'ipykernel' into the Python environment. \n",
      "\u001b[1;31mCommand: '/opt/homebrew/bin/python3.12 -m pip install ipykernel -U --user --force-reinstall'"
     ]
    }
   ],
   "source": [
    "sns.barplot(x = 'foreign_worker', y ='credit_amount', data = df,  hue='class')\n",
    "plt.title('Foreign Workers vs Credit Amount Requested')\n",
    "plt.show();"
   ]
  },
  {
   "cell_type": "code",
   "execution_count": null,
   "metadata": {},
   "outputs": [
    {
     "ename": "",
     "evalue": "",
     "output_type": "error",
     "traceback": [
      "\u001b[1;31mRunning cells with 'Python 3.12.1' requires the ipykernel package.\n",
      "\u001b[1;31mRun the following command to install 'ipykernel' into the Python environment. \n",
      "\u001b[1;31mCommand: '/opt/homebrew/bin/python3.12 -m pip install ipykernel -U --user --force-reinstall'"
     ]
    }
   ],
   "source": [
    "sns.countplot(x=df['foreign_worker'], hue = df['class'])\n",
    "plt.title('Population of Foreign Workers')\n",
    "plt.show();"
   ]
  },
  {
   "cell_type": "code",
   "execution_count": null,
   "metadata": {},
   "outputs": [
    {
     "ename": "",
     "evalue": "",
     "output_type": "error",
     "traceback": [
      "\u001b[1;31mRunning cells with 'Python 3.12.1' requires the ipykernel package.\n",
      "\u001b[1;31mRun the following command to install 'ipykernel' into the Python environment. \n",
      "\u001b[1;31mCommand: '/opt/homebrew/bin/python3.12 -m pip install ipykernel -U --user --force-reinstall'"
     ]
    }
   ],
   "source": [
    "print(df['foreign_worker'].value_counts().sum())\n",
    "print('---------------------------------')\n",
    "print(df['foreign_worker'].value_counts()/999)"
   ]
  },
  {
   "cell_type": "markdown",
   "metadata": {},
   "source": [
    "foreign worker:\n",
    "\n",
    "A201 : yes\n",
    "\n",
    "A202 : no\n",
    "\n",
    "***Observations:***\n",
    "- Foreign workers, tend to ask higher amnounts of credit and tend to have a population with higher bad credit history\n",
    "\n",
    "- **Since Foreign workers tend to have bad credit we should encode this as well and becasue it composes 96% of our dataset**"
   ]
  },
  {
   "cell_type": "code",
   "execution_count": null,
   "metadata": {},
   "outputs": [
    {
     "ename": "",
     "evalue": "",
     "output_type": "error",
     "traceback": [
      "\u001b[1;31mRunning cells with 'Python 3.12.1' requires the ipykernel package.\n",
      "\u001b[1;31mRun the following command to install 'ipykernel' into the Python environment. \n",
      "\u001b[1;31mCommand: '/opt/homebrew/bin/python3.12 -m pip install ipykernel -U --user --force-reinstall'"
     ]
    }
   ],
   "source": [
    "# Dropping Foreign Column to Avoid Multicolinearity\n",
    "df_encoded = pd.get_dummies(df_encoded, columns=['foreign_worker'], drop_first=True, prefix='Foreign') "
   ]
  },
  {
   "cell_type": "code",
   "execution_count": null,
   "metadata": {},
   "outputs": [
    {
     "ename": "",
     "evalue": "",
     "output_type": "error",
     "traceback": [
      "\u001b[1;31mRunning cells with 'Python 3.12.1' requires the ipykernel package.\n",
      "\u001b[1;31mRun the following command to install 'ipykernel' into the Python environment. \n",
      "\u001b[1;31mCommand: '/opt/homebrew/bin/python3.12 -m pip install ipykernel -U --user --force-reinstall'"
     ]
    }
   ],
   "source": [
    "sns.countplot(x = 'credit_history', data=df, hue ='class')\n",
    "plt.title('Credit History')\n",
    "plt.show();"
   ]
  },
  {
   "cell_type": "markdown",
   "metadata": {},
   "source": [
    "Credit history\n",
    "\n",
    "\n",
    "A30 : no credits taken/\n",
    "\n",
    "\tall credits paid back duly\n",
    "\n",
    "          \n",
    "\n",
    "A31 : all credits at this bank paid back duly\n",
    "\n",
    "\n",
    "A32 : existing credits paid back duly till now\n",
    "\n",
    "          \n",
    "\n",
    "A33 : delay in paying off in the past\n",
    "\n",
    "      \n",
    "\n",
    "A34 : critical account/\n",
    "\t\tother credits existing (not at this bank)\n",
    "\n",
    "***Observations:***\n",
    "- Although the majority of people with good and bad credit tend to pay off all their debt. There is a significant amount of people with bad debt that have accounts classified as critical in other banks. This could mean that they are looking to get more credit with bad history in other banks\n"
   ]
  },
  {
   "cell_type": "code",
   "execution_count": null,
   "metadata": {},
   "outputs": [
    {
     "ename": "",
     "evalue": "",
     "output_type": "error",
     "traceback": [
      "\u001b[1;31mRunning cells with 'Python 3.12.1' requires the ipykernel package.\n",
      "\u001b[1;31mRun the following command to install 'ipykernel' into the Python environment. \n",
      "\u001b[1;31mCommand: '/opt/homebrew/bin/python3.12 -m pip install ipykernel -U --user --force-reinstall'"
     ]
    }
   ],
   "source": [
    "df_encoded = pd.get_dummies(df_encoded, columns=['credit_history'], prefix='credit_history')"
   ]
  },
  {
   "cell_type": "code",
   "execution_count": null,
   "metadata": {},
   "outputs": [
    {
     "ename": "",
     "evalue": "",
     "output_type": "error",
     "traceback": [
      "\u001b[1;31mRunning cells with 'Python 3.12.1' requires the ipykernel package.\n",
      "\u001b[1;31mRun the following command to install 'ipykernel' into the Python environment. \n",
      "\u001b[1;31mCommand: '/opt/homebrew/bin/python3.12 -m pip install ipykernel -U --user --force-reinstall'"
     ]
    }
   ],
   "source": [
    "sns.countplot(data=df, x='debtors', hue='class')\n",
    "plt.title('Guarantors/Debtors')\n",
    "plt.show()"
   ]
  },
  {
   "cell_type": "markdown",
   "metadata": {},
   "source": [
    "Other debtors / guarantors\n",
    "\n",
    "\t      A101 : none\n",
    "\n",
    "\t      A102 : co-applicant\n",
    "\n",
    "\t      A103 : guarantor\n",
    "\n",
    "***We can eliminate this column***"
   ]
  },
  {
   "cell_type": "code",
   "execution_count": null,
   "metadata": {},
   "outputs": [
    {
     "ename": "",
     "evalue": "",
     "output_type": "error",
     "traceback": [
      "\u001b[1;31mRunning cells with 'Python 3.12.1' requires the ipykernel package.\n",
      "\u001b[1;31mRun the following command to install 'ipykernel' into the Python environment. \n",
      "\u001b[1;31mCommand: '/opt/homebrew/bin/python3.12 -m pip install ipykernel -U --user --force-reinstall'"
     ]
    }
   ],
   "source": [
    "df_encoded = df_encoded.drop(columns= 'debtors', axis=1)"
   ]
  },
  {
   "cell_type": "code",
   "execution_count": null,
   "metadata": {},
   "outputs": [
    {
     "ename": "",
     "evalue": "",
     "output_type": "error",
     "traceback": [
      "\u001b[1;31mRunning cells with 'Python 3.12.1' requires the ipykernel package.\n",
      "\u001b[1;31mRun the following command to install 'ipykernel' into the Python environment. \n",
      "\u001b[1;31mCommand: '/opt/homebrew/bin/python3.12 -m pip install ipykernel -U --user --force-reinstall'"
     ]
    }
   ],
   "source": [
    "sns.countplot(data = df , x = df['savings_account'], hue='class')\n",
    "plt.title('Savings Account Categories')\n",
    "plt.show();\n",
    "sns.countplot(data = df , x = df['checking_account'], hue='class')\n",
    "plt.title('Checking Account Categories')\n",
    "plt.show();"
   ]
  },
  {
   "cell_type": "markdown",
   "metadata": {},
   "source": [
    "\t\tchecking account\n",
    "\t\t\n",
    "        A11 :      ... <    0 DM\n",
    "\n",
    "\t    A12 : 0 <= ... <  200 DM\n",
    "\n",
    "\t    A13 :      ... >= 200 DM /\n",
    "\t\tsalary assignments for at least 1 year\n",
    "\t\t\n",
    "        A14 : no checking account"
   ]
  },
  {
   "cell_type": "markdown",
   "metadata": {},
   "source": [
    "  Savings account/bonds\n",
    "\n",
    "\t      A61 :          ... <  100 DM\n",
    "\n",
    "\t      A62 :   100 <= ... <  500 DM\n",
    "\n",
    "\t      A63 :   500 <= ... < 1000 DM\n",
    "\n",
    "\t      A64 :          .. >= 1000 DM\n",
    "\t\t  \n",
    "              A65 :   unknown/ no savings account"
   ]
  },
  {
   "cell_type": "markdown",
   "metadata": {},
   "source": [
    "**We can include checking and savings account feature since it is important for financial institutions to evaluate how much available capital they have**"
   ]
  },
  {
   "cell_type": "code",
   "execution_count": null,
   "metadata": {},
   "outputs": [
    {
     "ename": "",
     "evalue": "",
     "output_type": "error",
     "traceback": [
      "\u001b[1;31mRunning cells with 'Python 3.12.1' requires the ipykernel package.\n",
      "\u001b[1;31mRun the following command to install 'ipykernel' into the Python environment. \n",
      "\u001b[1;31mCommand: '/opt/homebrew/bin/python3.12 -m pip install ipykernel -U --user --force-reinstall'"
     ]
    }
   ],
   "source": [
    "df_encoded = pd.get_dummies(df_encoded, columns=['checking_account'], prefix='checking_account')\n",
    "df_encoded = pd.get_dummies(df_encoded, columns=['savings_account'], prefix='savings_account')"
   ]
  },
  {
   "cell_type": "markdown",
   "metadata": {},
   "source": [
    "***Dropping telephone since it is not a determinant factor for credit risk worthiness***"
   ]
  },
  {
   "cell_type": "code",
   "execution_count": null,
   "metadata": {},
   "outputs": [
    {
     "ename": "",
     "evalue": "",
     "output_type": "error",
     "traceback": [
      "\u001b[1;31mRunning cells with 'Python 3.12.1' requires the ipykernel package.\n",
      "\u001b[1;31mRun the following command to install 'ipykernel' into the Python environment. \n",
      "\u001b[1;31mCommand: '/opt/homebrew/bin/python3.12 -m pip install ipykernel -U --user --force-reinstall'"
     ]
    }
   ],
   "source": [
    "df_encoded = df_encoded.drop(columns='telephone' , axis= 1)"
   ]
  },
  {
   "cell_type": "code",
   "execution_count": null,
   "metadata": {},
   "outputs": [
    {
     "ename": "",
     "evalue": "",
     "output_type": "error",
     "traceback": [
      "\u001b[1;31mRunning cells with 'Python 3.12.1' requires the ipykernel package.\n",
      "\u001b[1;31mRun the following command to install 'ipykernel' into the Python environment. \n",
      "\u001b[1;31mCommand: '/opt/homebrew/bin/python3.12 -m pip install ipykernel -U --user --force-reinstall'"
     ]
    }
   ],
   "source": [
    "df.groupby('credits_at_current_bank')['class'].sum()"
   ]
  },
  {
   "cell_type": "markdown",
   "metadata": {},
   "source": [
    "***Double of the amount of people with good credit have only one account open at the current bank in comparison to people with bad credit***"
   ]
  },
  {
   "cell_type": "code",
   "execution_count": null,
   "metadata": {},
   "outputs": [
    {
     "ename": "",
     "evalue": "",
     "output_type": "error",
     "traceback": [
      "\u001b[1;31mRunning cells with 'Python 3.12.1' requires the ipykernel package.\n",
      "\u001b[1;31mRun the following command to install 'ipykernel' into the Python environment. \n",
      "\u001b[1;31mCommand: '/opt/homebrew/bin/python3.12 -m pip install ipykernel -U --user --force-reinstall'"
     ]
    }
   ],
   "source": [
    "df_encoded = pd.get_dummies(df_encoded, columns=['credits_at_current_bank'], prefix='current_bank_credit') "
   ]
  },
  {
   "cell_type": "code",
   "execution_count": null,
   "metadata": {},
   "outputs": [
    {
     "ename": "",
     "evalue": "",
     "output_type": "error",
     "traceback": [
      "\u001b[1;31mRunning cells with 'Python 3.12.1' requires the ipykernel package.\n",
      "\u001b[1;31mRun the following command to install 'ipykernel' into the Python environment. \n",
      "\u001b[1;31mCommand: '/opt/homebrew/bin/python3.12 -m pip install ipykernel -U --user --force-reinstall'"
     ]
    }
   ],
   "source": [
    "sns.countplot(data=df_encoded, x = 'housing', hue='class')\n",
    "plt.title('Class Housing')\n",
    "plt.show();"
   ]
  },
  {
   "cell_type": "markdown",
   "metadata": {},
   "source": [
    "\t      Housing\n",
    "\t      A151 : rent\n",
    "\t      A152 : own\n",
    "\t      A153 : for free"
   ]
  },
  {
   "cell_type": "markdown",
   "metadata": {},
   "source": [
    "***Owning a home is an important factor for credit approval and usully homeowners need to have a 'decent' credit to own a home***"
   ]
  },
  {
   "cell_type": "code",
   "execution_count": null,
   "metadata": {},
   "outputs": [
    {
     "ename": "",
     "evalue": "",
     "output_type": "error",
     "traceback": [
      "\u001b[1;31mRunning cells with 'Python 3.12.1' requires the ipykernel package.\n",
      "\u001b[1;31mRun the following command to install 'ipykernel' into the Python environment. \n",
      "\u001b[1;31mCommand: '/opt/homebrew/bin/python3.12 -m pip install ipykernel -U --user --force-reinstall'"
     ]
    }
   ],
   "source": [
    "df_encoded = pd.get_dummies(df_encoded, columns=['housing'], prefix='housing') "
   ]
  },
  {
   "cell_type": "code",
   "execution_count": null,
   "metadata": {},
   "outputs": [
    {
     "ename": "",
     "evalue": "",
     "output_type": "error",
     "traceback": [
      "\u001b[1;31mRunning cells with 'Python 3.12.1' requires the ipykernel package.\n",
      "\u001b[1;31mRun the following command to install 'ipykernel' into the Python environment. \n",
      "\u001b[1;31mCommand: '/opt/homebrew/bin/python3.12 -m pip install ipykernel -U --user --force-reinstall'"
     ]
    }
   ],
   "source": [
    "sns.countplot(data=df_encoded, x = 'job', hue = 'class' )\n",
    "plt.title('Job Category per Class')\n",
    "plt.show();\n"
   ]
  },
  {
   "cell_type": "markdown",
   "metadata": {},
   "source": [
    "   \t\t\tJob\n",
    "\t      A171 : unemployed/ unskilled  - non-resident\n",
    "\t      A172 : unskilled - resident\n",
    "\t      A173 : skilled employee / official\n",
    "\t      A174 : management/ self-employed/\n",
    "\t\t     highly qualified employee/ officer"
   ]
  },
  {
   "cell_type": "markdown",
   "metadata": {},
   "source": [
    "***The distribution for each class and employment seems proportional, we can omit this category***"
   ]
  },
  {
   "cell_type": "code",
   "execution_count": null,
   "metadata": {},
   "outputs": [
    {
     "ename": "",
     "evalue": "",
     "output_type": "error",
     "traceback": [
      "\u001b[1;31mRunning cells with 'Python 3.12.1' requires the ipykernel package.\n",
      "\u001b[1;31mRun the following command to install 'ipykernel' into the Python environment. \n",
      "\u001b[1;31mCommand: '/opt/homebrew/bin/python3.12 -m pip install ipykernel -U --user --force-reinstall'"
     ]
    }
   ],
   "source": [
    "df_encoded = pd.get_dummies(df_encoded, columns=['job'], prefix='job') "
   ]
  },
  {
   "cell_type": "code",
   "execution_count": null,
   "metadata": {},
   "outputs": [
    {
     "ename": "",
     "evalue": "",
     "output_type": "error",
     "traceback": [
      "\u001b[1;31mRunning cells with 'Python 3.12.1' requires the ipykernel package.\n",
      "\u001b[1;31mRun the following command to install 'ipykernel' into the Python environment. \n",
      "\u001b[1;31mCommand: '/opt/homebrew/bin/python3.12 -m pip install ipykernel -U --user --force-reinstall'"
     ]
    }
   ],
   "source": [
    "sns.countplot(data=df_encoded, x  = 'property', hue = 'class')\n",
    "plt.title('Count of Properties per class')\n",
    "plt.show();"
   ]
  },
  {
   "cell_type": "markdown",
   "metadata": {},
   "source": [
    "Property\n",
    "\n",
    "A121 : real estate\n",
    "\n",
    "A122 : if not A121 : building society savings agreement/life insurance\n",
    "\n",
    "A123 : if not A121/A122 : car or other, not in attribute 6\n",
    "\n",
    "A124 : unknown / no property"
   ]
  },
  {
   "cell_type": "markdown",
   "metadata": {},
   "source": [
    "***Encoding this feature because banks tend to look at collaterals when applying for credit lines***"
   ]
  },
  {
   "cell_type": "code",
   "execution_count": null,
   "metadata": {},
   "outputs": [
    {
     "ename": "",
     "evalue": "",
     "output_type": "error",
     "traceback": [
      "\u001b[1;31mRunning cells with 'Python 3.12.1' requires the ipykernel package.\n",
      "\u001b[1;31mRun the following command to install 'ipykernel' into the Python environment. \n",
      "\u001b[1;31mCommand: '/opt/homebrew/bin/python3.12 -m pip install ipykernel -U --user --force-reinstall'"
     ]
    }
   ],
   "source": [
    "df_encoded = pd.get_dummies(df_encoded, columns=['property'], prefix='property') "
   ]
  },
  {
   "cell_type": "code",
   "execution_count": null,
   "metadata": {},
   "outputs": [
    {
     "ename": "",
     "evalue": "",
     "output_type": "error",
     "traceback": [
      "\u001b[1;31mRunning cells with 'Python 3.12.1' requires the ipykernel package.\n",
      "\u001b[1;31mRun the following command to install 'ipykernel' into the Python environment. \n",
      "\u001b[1;31mCommand: '/opt/homebrew/bin/python3.12 -m pip install ipykernel -U --user --force-reinstall'"
     ]
    }
   ],
   "source": [
    "sns.countplot(data=df_encoded, x  = 'status_sex', hue = 'class')\n",
    "plt.title('Se/Marital Status per Class')\n",
    "plt.show();"
   ]
  },
  {
   "cell_type": "markdown",
   "metadata": {},
   "source": [
    "\t      Personal status and sex\n",
    "\t      A91 : male   : divorced/separated\n",
    "\t      A92 : female : divorced/separated/married\n",
    "              A93 : male   : single\n",
    "\t      A94 : male   : married/widowed\n",
    "\t      A95 : female : single"
   ]
  },
  {
   "cell_type": "markdown",
   "metadata": {},
   "source": [
    "***Encoding this feature becasue you can tell there is a difference betweeing goo/bad credit between male and females***"
   ]
  },
  {
   "cell_type": "code",
   "execution_count": null,
   "metadata": {},
   "outputs": [
    {
     "ename": "",
     "evalue": "",
     "output_type": "error",
     "traceback": [
      "\u001b[1;31mRunning cells with 'Python 3.12.1' requires the ipykernel package.\n",
      "\u001b[1;31mRun the following command to install 'ipykernel' into the Python environment. \n",
      "\u001b[1;31mCommand: '/opt/homebrew/bin/python3.12 -m pip install ipykernel -U --user --force-reinstall'"
     ]
    }
   ],
   "source": [
    "df_encoded = pd.get_dummies(df_encoded, columns=['status_sex'], prefix='status_sex') "
   ]
  },
  {
   "cell_type": "code",
   "execution_count": null,
   "metadata": {},
   "outputs": [
    {
     "ename": "",
     "evalue": "",
     "output_type": "error",
     "traceback": [
      "\u001b[1;31mRunning cells with 'Python 3.12.1' requires the ipykernel package.\n",
      "\u001b[1;31mRun the following command to install 'ipykernel' into the Python environment. \n",
      "\u001b[1;31mCommand: '/opt/homebrew/bin/python3.12 -m pip install ipykernel -U --user --force-reinstall'"
     ]
    }
   ],
   "source": [
    "sns.countplot(data=df_encoded, x  = 'present_employment', hue = 'class')"
   ]
  },
  {
   "cell_type": "markdown",
   "metadata": {},
   "source": [
    "      A71 : unemployed\n",
    "\t      A72 :       ... < 1 year\n",
    "\t      A73 : 1  <= ... < 4 years  \n",
    "\t      A74 : 4  <= ... < 7 years\n",
    "\t      A75 :       .. >= 7 years"
   ]
  },
  {
   "cell_type": "markdown",
   "metadata": {},
   "source": [
    "***Encoding this feature becasue it is important to have a working history that is stable, it could determine you eligibility for a credit line (domain knowledge)***"
   ]
  },
  {
   "cell_type": "code",
   "execution_count": null,
   "metadata": {},
   "outputs": [
    {
     "ename": "",
     "evalue": "",
     "output_type": "error",
     "traceback": [
      "\u001b[1;31mRunning cells with 'Python 3.12.1' requires the ipykernel package.\n",
      "\u001b[1;31mRun the following command to install 'ipykernel' into the Python environment. \n",
      "\u001b[1;31mCommand: '/opt/homebrew/bin/python3.12 -m pip install ipykernel -U --user --force-reinstall'"
     ]
    }
   ],
   "source": [
    "df_encoded = pd.get_dummies(df_encoded, columns=['present_employment'], prefix='years_in employment') "
   ]
  },
  {
   "cell_type": "code",
   "execution_count": null,
   "metadata": {},
   "outputs": [
    {
     "ename": "",
     "evalue": "",
     "output_type": "error",
     "traceback": [
      "\u001b[1;31mRunning cells with 'Python 3.12.1' requires the ipykernel package.\n",
      "\u001b[1;31mRun the following command to install 'ipykernel' into the Python environment. \n",
      "\u001b[1;31mCommand: '/opt/homebrew/bin/python3.12 -m pip install ipykernel -U --user --force-reinstall'"
     ]
    }
   ],
   "source": [
    "sns.countplot(data=df_encoded, x  = 'other_installments', hue = 'class')"
   ]
  },
  {
   "cell_type": "markdown",
   "metadata": {},
   "source": [
    "     Other installment plans \n",
    "\t      A141 : bank\n",
    "\t      A142 : stores\n",
    "\t      A143 : none"
   ]
  },
  {
   "cell_type": "markdown",
   "metadata": {},
   "source": [
    "***Having Other Installments does not seem that affect wether you have good or bad credit,since the population results look proportional***"
   ]
  },
  {
   "cell_type": "code",
   "execution_count": null,
   "metadata": {},
   "outputs": [
    {
     "ename": "",
     "evalue": "",
     "output_type": "error",
     "traceback": [
      "\u001b[1;31mRunning cells with 'Python 3.12.1' requires the ipykernel package.\n",
      "\u001b[1;31mRun the following command to install 'ipykernel' into the Python environment. \n",
      "\u001b[1;31mCommand: '/opt/homebrew/bin/python3.12 -m pip install ipykernel -U --user --force-reinstall'"
     ]
    }
   ],
   "source": [
    "#df_encoded = pd.get_dummies(df_encoded, columns=['other_installments'], prefix='other_installments') \n",
    "df_encoded = df_encoded.drop(columns='other_installments', axis= 1)"
   ]
  },
  {
   "cell_type": "code",
   "execution_count": null,
   "metadata": {},
   "outputs": [
    {
     "ename": "",
     "evalue": "",
     "output_type": "error",
     "traceback": [
      "\u001b[1;31mRunning cells with 'Python 3.12.1' requires the ipykernel package.\n",
      "\u001b[1;31mRun the following command to install 'ipykernel' into the Python environment. \n",
      "\u001b[1;31mCommand: '/opt/homebrew/bin/python3.12 -m pip install ipykernel -U --user --force-reinstall'"
     ]
    }
   ],
   "source": [
    "pd.set_option('display.max_columns', None)\n",
    "\n",
    "df_encoded.head(1)"
   ]
  },
  {
   "cell_type": "markdown",
   "metadata": {},
   "source": [
    "## Machine Learning"
   ]
  },
  {
   "cell_type": "code",
   "execution_count": null,
   "metadata": {},
   "outputs": [
    {
     "ename": "",
     "evalue": "",
     "output_type": "error",
     "traceback": [
      "\u001b[1;31mRunning cells with 'Python 3.12.1' requires the ipykernel package.\n",
      "\u001b[1;31mRun the following command to install 'ipykernel' into the Python environment. \n",
      "\u001b[1;31mCommand: '/opt/homebrew/bin/python3.12 -m pip install ipykernel -U --user --force-reinstall'"
     ]
    }
   ],
   "source": [
    "#1 is Good, 0 is bad\n",
    "mapping_dict = {1: 1, 2: 0}\n",
    "df_encoded['class'] = df_encoded['class'].map(mapping_dict)\n",
    "\n",
    "#Seperating Features from Target\n",
    "x = df_encoded.drop(columns='class',axis =1)\n",
    "y = df_encoded['class']"
   ]
  },
  {
   "cell_type": "markdown",
   "metadata": {},
   "source": [
    "## Naive Bayes Algorithm With Standardization"
   ]
  },
  {
   "cell_type": "code",
   "execution_count": null,
   "metadata": {},
   "outputs": [
    {
     "ename": "",
     "evalue": "",
     "output_type": "error",
     "traceback": [
      "\u001b[1;31mRunning cells with 'Python 3.12.1' requires the ipykernel package.\n",
      "\u001b[1;31mRun the following command to install 'ipykernel' into the Python environment. \n",
      "\u001b[1;31mCommand: '/opt/homebrew/bin/python3.12 -m pip install ipykernel -U --user --force-reinstall'"
     ]
    }
   ],
   "source": [
    "#Splitting\n",
    "x_train, x_test, y_train, y_test = train_test_split(x, y, train_size= .60, random_state= 42)\n",
    "\n",
    "#Standardizing\n",
    "scaler = StandardScaler()\n",
    "xtrain_scale = scaler.fit_transform(x_train)\n",
    "xtest = scaler.transform(x_test)\n",
    "\n",
    "# Hyperparameter Tuning\n",
    "param_grid = {'var_smoothing': [1e-9, 1e-8, 1e-7, 1e-6, 1e-5, 1e-4]}\n",
    "grid_search = GridSearchCV(estimator=GaussianNB(), param_grid=param_grid, cv=10, scoring='accuracy')\n",
    "grid_search.fit(xtrain_scale, y_train)\n",
    "\n",
    "# Training\n",
    "n_b_best = grid_search.best_estimator_\n",
    "n_b_best.fit(xtrain_scale, y_train)\n",
    "predictions = n_b_best.predict(xtest)\n",
    "\n",
    "#Performance\n",
    "scores = n_b_best.score(xtest, y_test)\n",
    "conf_mtrx = confusion_matrix(y_test, predictions)\n",
    "precision = precision_score(y_test, predictions)\n",
    "recall = recall_score(y_test, predictions)\n",
    "f1 = f1_score(y_test, predictions)\n",
    "disp = ConfusionMatrixDisplay(confusion_matrix=conf_mtrx)\n",
    "\n",
    "#Plotting ROC Curve\n",
    "y_pred_proba = n_b_best.predict_proba(xtest)[:, 1]\n",
    "fpr, tpr, thresholds = roc_curve(y_test, y_pred_proba, pos_label=1)\n",
    "roc_auc = auc(fpr, tpr)\n",
    "\n",
    "#Results\n",
    "plt.figure()\n",
    "plt.plot(fpr, tpr, color='darkorange', lw=2, label=f'ROC curve(Standardized) (area = {round(roc_auc,3)})')\n",
    "plt.fill_between(fpr, tpr, color='gray', alpha=0.3) \n",
    "plt.plot([0, 1], [0, 1], color='navy', lw=2, linestyle='--')\n",
    "plt.xlim([0.0, 1.0])\n",
    "plt.ylim([0.0, 1.05])\n",
    "plt.xlabel('False Positive Rate')\n",
    "plt.ylabel('True Positive Rate')\n",
    "plt.title('Receiver Operating Characteristic (ROC) Curve')\n",
    "plt.legend(loc=\"lower right\")\n",
    "plt.show();\n",
    "print('Confusion Matrix')\n",
    "disp.plot(cmap='Blues', include_values=True)\n",
    "plt.show();\n",
    "\n",
    "print('---------------------------')\n",
    "print('Performance Measures')\n",
    "print('---------------------------')\n",
    "print(f'Precision:, {precision}')\n",
    "print(f'Recall:, {recall}')\n",
    "print(f'F1 Score:, {f1}')\n",
    "print(f'Accuracy Score: {scores}')\n",
    "print('-----------------------------')\n",
    "print('Hyperparameter Tuning Results')\n",
    "print('----------------------------')\n",
    "print(f'Best parameters:, {grid_search.best_params_}')\n",
    "print(f'Best score:\", {grid_search.best_score_}')\n",
    "print(f'False Positive rate: {conf_mtrx[0][1] / (conf_mtrx[0][1]+conf_mtrx[0][0])}')"
   ]
  },
  {
   "cell_type": "markdown",
   "metadata": {},
   "source": [
    "***Observation***\n",
    "\n",
    "- The precision on this model is very good buta bit \"off-balance\" with the Recall score, we are trying to minimize the False Positives and this model tends to do that as well. The problem can arise from the imbalanced data."
   ]
  },
  {
   "cell_type": "markdown",
   "metadata": {},
   "source": [
    "### Simulating Best Score"
   ]
  },
  {
   "cell_type": "code",
   "execution_count": null,
   "metadata": {},
   "outputs": [
    {
     "ename": "",
     "evalue": "",
     "output_type": "error",
     "traceback": [
      "\u001b[1;31mRunning cells with 'Python 3.12.1' requires the ipykernel package.\n",
      "\u001b[1;31mRun the following command to install 'ipykernel' into the Python environment. \n",
      "\u001b[1;31mCommand: '/opt/homebrew/bin/python3.12 -m pip install ipykernel -U --user --force-reinstall'"
     ]
    }
   ],
   "source": [
    "i = 0\n",
    "\n",
    "n_b_train_score = []\n",
    "n_b_test_score = []\n",
    "diff = []\n",
    "\n",
    "while i < 200:\n",
    "\n",
    "    # Splitting\n",
    "    x_train, x_test, y_train, y_test = train_test_split(x, y, train_size=.60)\n",
    "\n",
    "    # Standardizing\n",
    "    scaler = StandardScaler()\n",
    "    xtrain_scale = scaler.fit_transform(x_train)\n",
    "    xtest = scaler.transform(x_test)\n",
    "\n",
    "    # Hyperparameter Tuning\n",
    "    param_grid = {'var_smoothing': [1e-9, 1e-8, 1e-7, 1e-6, 1e-5, 1e-4]}\n",
    "    grid_search = GridSearchCV(estimator=GaussianNB(), param_grid=param_grid, cv=10, scoring='accuracy')\n",
    "    grid_search.fit(xtrain_scale, y_train)\n",
    "\n",
    "    # Training\n",
    "    n_b_best = grid_search.best_estimator_\n",
    "    n_b_best.fit(xtrain_scale, y_train)\n",
    "    predictions = n_b_best.predict(xtest)\n",
    "\n",
    "    # Performance\n",
    "    train_score = n_b_best.score(xtrain_scale, y_train)\n",
    "    test_score = n_b_best.score(xtest, y_test)\n",
    "    n_b_train_score.append(train_score)\n",
    "    n_b_test_score.append(test_score)\n",
    "    diff_Score = train_score - test_score\n",
    "\n",
    "    diff.append(diff_Score)\n",
    "\n",
    "    i +=1 \n",
    "\n",
    "\n",
    "sns.histplot(data= n_b_test_score, color = 'red', label = 'Test')\n",
    "sns.histplot(data= n_b_train_score, color = 'blue', label ='Training')\n",
    "plt.title('Naive-Bayes Scores Distribution(Standardized)')\n",
    "plt.legend()\n",
    "plt.show();\n",
    "print(f'Mean Train Score: {np.mean(n_b_train_score)}')\n",
    "print(f'Mean Test Score: {np.mean(n_b_test_score)}')\n",
    "print(f'Mean Diff score: {np.mean(diff)}')\n"
   ]
  },
  {
   "cell_type": "code",
   "execution_count": null,
   "metadata": {},
   "outputs": [
    {
     "ename": "",
     "evalue": "",
     "output_type": "error",
     "traceback": [
      "\u001b[1;31mRunning cells with 'Python 3.12.1' requires the ipykernel package.\n",
      "\u001b[1;31mRun the following command to install 'ipykernel' into the Python environment. \n",
      "\u001b[1;31mCommand: '/opt/homebrew/bin/python3.12 -m pip install ipykernel -U --user --force-reinstall'"
     ]
    }
   ],
   "source": [
    "sns.histplot(data= diff, color = 'red')\n",
    "plt.title('Training and Test Score Difference')\n",
    "plt.show();\n"
   ]
  },
  {
   "cell_type": "markdown",
   "metadata": {},
   "source": [
    "***Observation***\n",
    "- From the simulations we can see that our score is very large spread and it is skewed to the left, the mean difference of our score is very close to zero indicating that our model is performing well, but like I mentioned before, it could be that the model is not learning well due to the imblanced dataset, the spread is quite high as well and the difference of score having a negative means that the model is performing  better  on the test stet rather than the training set which is preferable."
   ]
  },
  {
   "cell_type": "markdown",
   "metadata": {},
   "source": [
    "## Naive Bayes Algorithm with Balanced Target and Standardized"
   ]
  },
  {
   "cell_type": "code",
   "execution_count": null,
   "metadata": {},
   "outputs": [
    {
     "ename": "",
     "evalue": "",
     "output_type": "error",
     "traceback": [
      "\u001b[1;31mRunning cells with 'Python 3.12.1' requires the ipykernel package.\n",
      "\u001b[1;31mRun the following command to install 'ipykernel' into the Python environment. \n",
      "\u001b[1;31mCommand: '/opt/homebrew/bin/python3.12 -m pip install ipykernel -U --user --force-reinstall'"
     ]
    }
   ],
   "source": [
    "#Splitting\n",
    "x_train, x_test, y_train, y_test = train_test_split(x, y, train_size= .60, random_state= 42)\n",
    "\n",
    "#Balancing\n",
    "smote = SMOTE()\n",
    "x_train_, y_train_ =  smote.fit_resample(x_train,y_train)\n",
    "\n",
    "#Standardizing\n",
    "scaler = StandardScaler()\n",
    "xtrain_scale = scaler.fit_transform(x_train_)\n",
    "xtest = scaler.transform(x_test)\n",
    "\n",
    "# Hyperparameter Tuning\n",
    "param_grid = {'var_smoothing': [1e-9, 1e-8, 1e-7, 1e-6, 1e-5, 1e-4]}\n",
    "grid_search = GridSearchCV(estimator=GaussianNB(), param_grid=param_grid, cv=10, scoring='accuracy')\n",
    "grid_search.fit(xtrain_scale, y_train_)\n",
    "\n",
    "# Training\n",
    "n_b_best = grid_search.best_estimator_\n",
    "n_b_best.fit(xtrain_scale, y_train_)\n",
    "predictions= n_b_best.predict(xtest)\n",
    "\n",
    "#Performance\n",
    "scores = n_b_best.score(xtest, y_test)\n",
    "conf_mtrx = confusion_matrix(y_test, predictions)\n",
    "precision = precision_score(y_test, predictions)\n",
    "recall = recall_score(y_test, predictions)\n",
    "f1 = f1_score(y_test, predictions)\n",
    "disp = ConfusionMatrixDisplay(confusion_matrix=conf_mtrx)\n",
    "\n",
    "#Plotting ROC Curve\n",
    "y_pred_proba = n_b_best.predict_proba(xtest)[:, 1]\n",
    "fpr, tpr, thresholds = roc_curve(y_test, y_pred_proba, pos_label=1)\n",
    "roc_auc = auc(fpr, tpr)\n",
    "\n",
    "#Results\n",
    "plt.figure()\n",
    "plt.plot(fpr, tpr, color='darkorange', lw=2, label=f'ROC curve(Standardized) (area = {round(roc_auc,3)})')\n",
    "plt.fill_between(fpr, tpr, color='gray', alpha=0.3) \n",
    "plt.plot([0, 1], [0, 1], color='navy', lw=2, linestyle='--')\n",
    "plt.xlim([0.0, 1.0])\n",
    "plt.ylim([0.0, 1.05])\n",
    "plt.xlabel('False Positive Rate')\n",
    "plt.ylabel('True Positive Rate')\n",
    "plt.title('Receiver Operating Characteristic (ROC) Curve')\n",
    "plt.legend(loc=\"lower right\")\n",
    "plt.show();\n",
    "print('Confusion Matrix')\n",
    "disp.plot(cmap='Blues', include_values=True)\n",
    "plt.show();\n",
    "\n",
    "print('---------------------------')\n",
    "print('Performance Measures')\n",
    "print('---------------------------')\n",
    "print(f'Precision:, {precision}')\n",
    "print(f'Recall:, {recall}')\n",
    "print(f'F1 Score:, {f1}')\n",
    "print(f'Accuracy Score: {scores}')\n",
    "print('-----------------------------')\n",
    "print('Hyperparameter Tuning Results')\n",
    "print('----------------------------')\n",
    "print(f'Best parameters:, {grid_search.best_params_}')\n",
    "print(f'Best score:\", {grid_search.best_score_}')\n",
    "print(f'False Positive rate: {conf_mtrx[0][1] / (conf_mtrx[0][1]+conf_mtrx[0][0])}')"
   ]
  },
  {
   "cell_type": "markdown",
   "metadata": {},
   "source": [
    "***Observations***\n",
    "\n",
    "- Precision has dropped but recall has increased, this means that our model has a good proportion of having large true positives while also making correct predictions.  Our Falsse Positive Rate has increased but it is balanced with the Recall score. The AUC is near the 50/50 threshold, it could potentiall cause issue if our model is slightly \"guessing\" the predictions. "
   ]
  },
  {
   "cell_type": "markdown",
   "metadata": {},
   "source": [
    "### Simulating Best Score"
   ]
  },
  {
   "cell_type": "code",
   "execution_count": null,
   "metadata": {},
   "outputs": [
    {
     "ename": "",
     "evalue": "",
     "output_type": "error",
     "traceback": [
      "\u001b[1;31mRunning cells with 'Python 3.12.1' requires the ipykernel package.\n",
      "\u001b[1;31mRun the following command to install 'ipykernel' into the Python environment. \n",
      "\u001b[1;31mCommand: '/opt/homebrew/bin/python3.12 -m pip install ipykernel -U --user --force-reinstall'"
     ]
    }
   ],
   "source": [
    "i = 0\n",
    "n_b_train_score = []\n",
    "n_b_test_score = []\n",
    "diff = []\n",
    "\n",
    "\n",
    "while i < 200:\n",
    "\n",
    "    #Splitting\n",
    "    x_train, x_test, y_train, y_test = train_test_split(x, y, train_size= .60)\n",
    "    \n",
    "   #Balancing\n",
    "    smote = SMOTE()\n",
    "    x_train_, y_train_ =  smote.fit_resample(x_train,y_train)\n",
    "    \n",
    "    #Standardizing\n",
    "    scaler = StandardScaler()\n",
    "    xtrain_scale = scaler.fit_transform(x_train_)\n",
    "    xtest = scaler.transform(x_test)\n",
    "    \n",
    "    # Hyperparameter Tuning\n",
    "    param_grid = {'var_smoothing': [1e-9, 1e-8, 1e-7, 1e-6, 1e-5, 1e-4]}\n",
    "    grid_search = GridSearchCV(estimator=GaussianNB(), param_grid=param_grid, cv=10, scoring='accuracy')\n",
    "    grid_search.fit(xtrain_scale, y_train_)\n",
    "    \n",
    "\n",
    "    # Training\n",
    "    n_b_best = grid_search.best_estimator_\n",
    "    n_b_best.fit(xtrain_scale, y_train_)\n",
    "    predictions = n_b_best.predict(xtest)\n",
    "\n",
    "    # Performance\n",
    "    train_score = n_b_best.score(xtrain_scale, y_train_)\n",
    "    test_score = n_b_best.score(xtest, y_test)\n",
    "    n_b_train_score.append(train_score)\n",
    "    n_b_test_score.append(test_score)\n",
    "    diff_Score = train_score - test_score\n",
    "\n",
    "    diff.append(diff_Score)\n",
    "\n",
    "    i +=1 \n",
    "\n",
    "\n",
    "sns.histplot(data= n_b_test_score, color = 'red', label = 'Test')\n",
    "sns.histplot(data= n_b_train_score, color = 'blue', label ='Training')\n",
    "plt.title('Naive-Bayes Score Distribution(Balanced/Standardized)')\n",
    "plt.legend()\n",
    "plt.axvline(np.mean(n_b_test_score))\n",
    "plt.show();\n",
    "\n",
    "print(f'Mean Train Score: {np.mean(n_b_train_score)}')\n",
    "print(f'Mean Test Score: {np.mean(n_b_test_score)}')\n",
    "print(f'Mean Diff score: {np.mean(diff)}')\n"
   ]
  },
  {
   "cell_type": "code",
   "execution_count": null,
   "metadata": {},
   "outputs": [
    {
     "ename": "",
     "evalue": "",
     "output_type": "error",
     "traceback": [
      "\u001b[1;31mRunning cells with 'Python 3.12.1' requires the ipykernel package.\n",
      "\u001b[1;31mRun the following command to install 'ipykernel' into the Python environment. \n",
      "\u001b[1;31mCommand: '/opt/homebrew/bin/python3.12 -m pip install ipykernel -U --user --force-reinstall'"
     ]
    }
   ],
   "source": [
    "sns.histplot(data = diff, color ='coral')\n",
    "plt.title('Training and Test Score Difference')\n",
    "plt.show();"
   ]
  },
  {
   "cell_type": "markdown",
   "metadata": {},
   "source": [
    "***Observation***\n",
    "- In comparison to the previous simulation, this model is doing better on the training data, which could also be a sign of overfitting. "
   ]
  },
  {
   "cell_type": "markdown",
   "metadata": {},
   "source": [
    "## Without modifications to the dataset"
   ]
  },
  {
   "cell_type": "code",
   "execution_count": null,
   "metadata": {},
   "outputs": [
    {
     "ename": "",
     "evalue": "",
     "output_type": "error",
     "traceback": [
      "\u001b[1;31mRunning cells with 'Python 3.12.1' requires the ipykernel package.\n",
      "\u001b[1;31mRun the following command to install 'ipykernel' into the Python environment. \n",
      "\u001b[1;31mCommand: '/opt/homebrew/bin/python3.12 -m pip install ipykernel -U --user --force-reinstall'"
     ]
    }
   ],
   "source": [
    "#Splitting\n",
    "x_train, x_test, y_train, y_test = train_test_split(x, y, train_size= .60, random_state= 42)\n",
    "\n",
    "# Hyperparameter Tuning\n",
    "param_grid = {'var_smoothing': [1e-9, 1e-8, 1e-7, 1e-6, 1e-5, 1e-4]}\n",
    "grid_search = GridSearchCV(estimator=GaussianNB(), param_grid=param_grid, cv=10, scoring='accuracy')\n",
    "grid_search.fit(x_train, y_train)\n",
    "\n",
    "# Training\n",
    "n_b_best = grid_search.best_estimator_\n",
    "n_b_best.fit(x_train, y_train)\n",
    "predictions_ = n_b_best.predict(x_test)\n",
    "\n",
    "#Performance\n",
    "scores = n_b_best.score(x_test, y_test)\n",
    "conf_mtrx = confusion_matrix(y_test, predictions_)\n",
    "precision = precision_score(y_test, predictions_)\n",
    "recall = recall_score(y_test, predictions_)\n",
    "f1 = f1_score(y_test, predictions_)\n",
    "disp = ConfusionMatrixDisplay(confusion_matrix=conf_mtrx)\n",
    "\n",
    "#Results\n",
    "print('Confusion Matrix')\n",
    "disp.plot(cmap='Blues', include_values=True)\n",
    "plt.show();\n",
    "\n",
    "\n",
    "#Plotting ROC Curve\n",
    "y_pred_proba = n_b_best.predict_proba(x_test)[:, 1]\n",
    "fpr, tpr, thresholds = roc_curve(y_test, y_pred_proba, pos_label=1)\n",
    "roc_auc = auc(fpr, tpr)\n",
    "\n",
    "\n",
    "plt.figure()\n",
    "plt.plot(fpr, tpr, color='darkorange', lw=2, label=f'ROC curve(Conventional) (area = {round(roc_auc,3)})')\n",
    "plt.fill_between(fpr, tpr, color='gray', alpha=0.3) \n",
    "plt.plot([0, 1], [0, 1], color='navy', lw=2, linestyle='--')\n",
    "plt.xlim([0.0, 1.0])\n",
    "plt.ylim([0.0, 1.05])\n",
    "plt.xlabel('False Positive Rate')\n",
    "plt.ylabel('True Positive Rate')\n",
    "plt.title('Receiver Operating Characteristic (ROC) Curve')\n",
    "plt.legend(loc=\"lower right\")\n",
    "plt.show();\n",
    "\n",
    "print('---------------------------')\n",
    "print('Performance Measures')\n",
    "print('---------------------------')\n",
    "print(f'Precision:, {precision}')\n",
    "print(f'Recall:, {recall}')\n",
    "print(f'F1 Score:, {f1}')\n",
    "print(f'Accuracy Score: {scores}')\n",
    "print('-----------------------------')\n",
    "print('Hyperparameter Tuning Results')\n",
    "print('----------------------------')\n",
    "print(f'Best parameters:, {grid_search.best_params_}')\n",
    "print(f'Best score:\", {grid_search.best_score_}')\n",
    "print(f'False Positive rate: {conf_mtrx[0][1] / (conf_mtrx[0][1]+conf_mtrx[0][0])}')"
   ]
  },
  {
   "cell_type": "markdown",
   "metadata": {},
   "source": [
    "***Observations***\n",
    "\n",
    "- We got higher results by leaving the model intact, no standardization and no balance dataset. Our AUC is close to .80, a percentage that can be categorized as a good performing model. The ratio of precision and recall or F1 score is above .80 which means that our model is good a predicting a high number of True Positives without sacrificing its accuracy. Overall this model can be a candidate. "
   ]
  },
  {
   "cell_type": "markdown",
   "metadata": {},
   "source": [
    "### Simulating Best Score"
   ]
  },
  {
   "cell_type": "code",
   "execution_count": null,
   "metadata": {},
   "outputs": [
    {
     "ename": "",
     "evalue": "",
     "output_type": "error",
     "traceback": [
      "\u001b[1;31mRunning cells with 'Python 3.12.1' requires the ipykernel package.\n",
      "\u001b[1;31mRun the following command to install 'ipykernel' into the Python environment. \n",
      "\u001b[1;31mCommand: '/opt/homebrew/bin/python3.12 -m pip install ipykernel -U --user --force-reinstall'"
     ]
    }
   ],
   "source": [
    "i = 0\n",
    "n_b_train_score = []\n",
    "n_b_test_score = []\n",
    "diff = []\n",
    "\n",
    "while i < 200:\n",
    "    \n",
    "    #Splitting\n",
    "    x_train, x_test, y_train, y_test = train_test_split(x, y, train_size= .60)\n",
    "    \n",
    "    # Hyperparameter Tuning\n",
    "    param_grid = {'var_smoothing': [1e-9, 1e-8, 1e-7, 1e-6, 1e-5, 1e-4]}\n",
    "    grid_search = GridSearchCV(estimator=GaussianNB(), param_grid=param_grid, cv=10, scoring='accuracy')\n",
    "    grid_search.fit(x_train, y_train)\n",
    "    \n",
    "    # Training\n",
    "    n_b_best = grid_search.best_estimator_\n",
    "    n_b_best.fit(x_train, y_train)\n",
    "    predictions = n_b_best.predict(x_test)\n",
    "\n",
    "    # Performance\n",
    "    train_score = n_b_best.score(x_train, y_train)\n",
    "    test_score = n_b_best.score(x_test, y_test)\n",
    "    n_b_train_score.append(train_score)\n",
    "    n_b_test_score.append(test_score)\n",
    "    diff_score = train_score - test_score\n",
    "    diff.append(diff_score)\n",
    "\n",
    "    i +=1 \n",
    "\n",
    "\n",
    "sns.histplot(data=n_b_test_score, bins=15, label ='Test Score')\n",
    "sns.histplot(data = n_b_train_score, bins = 15, color = 'coral', label = 'Training')\n",
    "plt.title('Naive-Bayes Score Distribution(No Balanced/Standardized)')\n",
    "plt.legend()\n",
    "plt.axvline(np.mean(n_b_test_score))\n",
    "plt.show();\n",
    "\n",
    "print(f'Mean Train Score: {np.mean(n_b_train_score)}')\n",
    "print(f'Mean Test Score: {np.mean(n_b_test_score)}')\n",
    "print(f'Mean Diff score: {np.mean(diff)}')\n"
   ]
  },
  {
   "cell_type": "code",
   "execution_count": null,
   "metadata": {},
   "outputs": [
    {
     "ename": "",
     "evalue": "",
     "output_type": "error",
     "traceback": [
      "\u001b[1;31mRunning cells with 'Python 3.12.1' requires the ipykernel package.\n",
      "\u001b[1;31mRun the following command to install 'ipykernel' into the Python environment. \n",
      "\u001b[1;31mCommand: '/opt/homebrew/bin/python3.12 -m pip install ipykernel -U --user --force-reinstall'"
     ]
    }
   ],
   "source": [
    "sns.histplot(data = diff, color = 'coral')\n",
    "plt.title('Training and Test Score Difference')\n",
    "plt.show();"
   ]
  },
  {
   "cell_type": "markdown",
   "metadata": {},
   "source": [
    "The difference in scores has a range with negative numbers, again, it is an observation that our models is performing better on our test set rather than our training set. "
   ]
  },
  {
   "cell_type": "markdown",
   "metadata": {},
   "source": [
    "## With Balanced Target And No Standardization"
   ]
  },
  {
   "cell_type": "code",
   "execution_count": null,
   "metadata": {},
   "outputs": [
    {
     "ename": "",
     "evalue": "",
     "output_type": "error",
     "traceback": [
      "\u001b[1;31mRunning cells with 'Python 3.12.1' requires the ipykernel package.\n",
      "\u001b[1;31mRun the following command to install 'ipykernel' into the Python environment. \n",
      "\u001b[1;31mCommand: '/opt/homebrew/bin/python3.12 -m pip install ipykernel -U --user --force-reinstall'"
     ]
    }
   ],
   "source": [
    "\n",
    "#Splitting\n",
    "x_train, x_test, y_train, y_test = train_test_split(x, y, train_size= .60, random_state=42)\n",
    "\n",
    "#Balancing\n",
    "smote = SMOTE()\n",
    "x_train_, y_train_ =  smote.fit_resample(x_train,y_train)\n",
    "\n",
    "\n",
    "# Hyperparameter Tuning\n",
    "param_grid = {'var_smoothing': [1e-9, 1e-8, 1e-7, 1e-6, 1e-5, 1e-4]}\n",
    "grid_search = GridSearchCV(estimator=GaussianNB(), param_grid=param_grid, cv=10, scoring='accuracy')\n",
    "grid_search.fit(x_train_, y_train_)\n",
    "\n",
    "# Training\n",
    "n_b_best = grid_search.best_estimator_\n",
    "n_b_best.fit(x_train_, y_train_)\n",
    "predictions_ = n_b_best.predict(x_test)\n",
    "\n",
    "#Performance\n",
    "scores = n_b_best.score(x_test, y_test)\n",
    "conf_mtrx = confusion_matrix(y_test, predictions_)\n",
    "precision = precision_score(y_test, predictions_)\n",
    "recall = recall_score(y_test, predictions_)\n",
    "f1 = f1_score(y_test, predictions_)\n",
    "disp = ConfusionMatrixDisplay(confusion_matrix=conf_mtrx)\n",
    "\n",
    "#Results\n",
    "print('Confusion Matrix')\n",
    "disp.plot(cmap='Blues', include_values=True)\n",
    "plt.show();\n",
    "\n",
    "\n",
    "#Plotting ROC Curve\n",
    "y_pred_proba = n_b_best.predict_proba(x_test)[:, 1]\n",
    "fpr, tpr, thresholds = roc_curve(y_test, y_pred_proba, pos_label=1)\n",
    "roc_auc = auc(fpr, tpr)\n",
    "\n",
    "\n",
    "plt.figure()\n",
    "plt.plot(fpr, tpr, color='darkorange', lw=2, label=f'ROC curve(Balanced) (area = {round(roc_auc,3)})')\n",
    "plt.fill_between(fpr, tpr, color='gray', alpha=0.3) \n",
    "plt.plot([0, 1], [0, 1], color='navy', lw=2, linestyle='--')\n",
    "plt.xlim([0.0, 1.0])\n",
    "plt.ylim([0.0, 1.05])\n",
    "plt.xlabel('False Positive Rate')\n",
    "plt.ylabel('True Positive Rate')\n",
    "plt.title('Receiver Operating Characteristic (ROC) Curve')\n",
    "plt.legend(loc=\"lower right\")\n",
    "plt.show();\n",
    "\n",
    "print('---------------------------')\n",
    "print('Performance Measures')\n",
    "print('---------------------------')\n",
    "print(f'Precision:, {precision}')\n",
    "print(f'Recall:, {recall}')\n",
    "print(f'F1 Score:, {f1}')\n",
    "print(f'Accuracy Score: {scores}')\n",
    "print('-----------------------------')\n",
    "print('Hyperparameter Tuning Results')\n",
    "print('----------------------------')\n",
    "print(f'Best parameters:, {grid_search.best_params_}')\n",
    "print(f'Best score:\", {grid_search.best_score_}')\n",
    "print(f'False Positive rate: {conf_mtrx[0][1] / (conf_mtrx[0][1]+conf_mtrx[0][0])}')"
   ]
  },
  {
   "cell_type": "markdown",
   "metadata": {},
   "source": [
    "This model performed very similar to the convential  algorithm except the score were lowere but that ratio is consistent, give then results from the previous model we can discard this one. "
   ]
  },
  {
   "cell_type": "markdown",
   "metadata": {},
   "source": [
    "### Simulating Best Score"
   ]
  },
  {
   "cell_type": "code",
   "execution_count": null,
   "metadata": {},
   "outputs": [
    {
     "ename": "",
     "evalue": "",
     "output_type": "error",
     "traceback": [
      "\u001b[1;31mRunning cells with 'Python 3.12.1' requires the ipykernel package.\n",
      "\u001b[1;31mRun the following command to install 'ipykernel' into the Python environment. \n",
      "\u001b[1;31mCommand: '/opt/homebrew/bin/python3.12 -m pip install ipykernel -U --user --force-reinstall'"
     ]
    }
   ],
   "source": [
    "i = 0\n",
    "n_b_score = []\n",
    "n_b_train_score = []\n",
    "n_b_test_score = []\n",
    "diff = []\n",
    "\n",
    "while i < 200:\n",
    "    \n",
    "    #Splitting\n",
    "    x_train, x_test, y_train, y_test = train_test_split(x, y, train_size= .60)\n",
    "\n",
    "    #Balancing\n",
    "    smote = SMOTE()\n",
    "    x_train_, y_train_ =  smote.fit_resample(x_train,y_train)\n",
    "\n",
    "\n",
    "    # Hyperparameter Tuning\n",
    "    param_grid = {'var_smoothing': [1e-9, 1e-8, 1e-7, 1e-6, 1e-5, 1e-4]}\n",
    "    grid_search = GridSearchCV(estimator=GaussianNB(), param_grid=param_grid, cv=10, scoring='accuracy')\n",
    "    grid_search.fit(x_train_, y_train_)\n",
    "\n",
    "    # Training\n",
    "    n_b_best = grid_search.best_estimator_\n",
    "    n_b_best.fit(x_train_, y_train_)\n",
    "    predictions_ = n_b_best.predict(x_test)\n",
    "    \n",
    "    # Performance\n",
    "    train_score = n_b_best.score(x_train, y_train)\n",
    "    test_score = n_b_best.score(x_test, y_test)\n",
    "    n_b_train_score.append(train_score)\n",
    "    n_b_test_score.append(test_score)\n",
    "    diff_score = train_score - test_score\n",
    "    diff.append(diff_score)\n",
    "\n",
    "    i +=1 \n",
    "\n",
    "\n",
    "sns.histplot(data=n_b_test_score, bins=15, label ='Test Score')\n",
    "sns.histplot(data = n_b_train_score, bins = 15, color = 'coral', label = 'Training')\n",
    "plt.title('Naive-Bayes Score Distribution(Balanced)')\n",
    "plt.legend()\n",
    "plt.axvline(np.mean(n_b_test_score))\n",
    "plt.show();\n",
    "\n",
    "print(f'Mean Train Score: {np.mean(n_b_train_score)}')\n",
    "print(f'Mean Test Score: {np.mean(n_b_test_score)}')\n",
    "print(f'Mean Diff score: {np.mean(diff)}')"
   ]
  },
  {
   "cell_type": "code",
   "execution_count": null,
   "metadata": {},
   "outputs": [
    {
     "ename": "",
     "evalue": "",
     "output_type": "error",
     "traceback": [
      "\u001b[1;31mRunning cells with 'Python 3.12.1' requires the ipykernel package.\n",
      "\u001b[1;31mRun the following command to install 'ipykernel' into the Python environment. \n",
      "\u001b[1;31mCommand: '/opt/homebrew/bin/python3.12 -m pip install ipykernel -U --user --force-reinstall'"
     ]
    }
   ],
   "source": []
  },
  {
   "cell_type": "code",
   "execution_count": null,
   "metadata": {},
   "outputs": [
    {
     "ename": "",
     "evalue": "",
     "output_type": "error",
     "traceback": [
      "\u001b[1;31mRunning cells with 'Python 3.12.1' requires the ipykernel package.\n",
      "\u001b[1;31mRun the following command to install 'ipykernel' into the Python environment. \n",
      "\u001b[1;31mCommand: '/opt/homebrew/bin/python3.12 -m pip install ipykernel -U --user --force-reinstall'"
     ]
    }
   ],
   "source": [
    "sns.histplot(data = diff, color = 'coral')\n",
    "plt.title('Training and Test Score Difference')\n",
    "plt.show();"
   ]
  },
  {
   "cell_type": "markdown",
   "metadata": {},
   "source": [
    "The abrupt cut in the histogram to negative values means that the model can have a high level of variability in its results. Although in some instances it performs better in the test set, the count tends to be low therefore the model can have problems adapting to new data."
   ]
  },
  {
   "cell_type": "markdown",
   "metadata": {},
   "source": [
    "### Gradient Boosting Machines"
   ]
  },
  {
   "cell_type": "code",
   "execution_count": null,
   "metadata": {},
   "outputs": [
    {
     "ename": "",
     "evalue": "",
     "output_type": "error",
     "traceback": [
      "\u001b[1;31mRunning cells with 'Python 3.12.1' requires the ipykernel package.\n",
      "\u001b[1;31mRun the following command to install 'ipykernel' into the Python environment. \n",
      "\u001b[1;31mCommand: '/opt/homebrew/bin/python3.12 -m pip install ipykernel -U --user --force-reinstall'"
     ]
    }
   ],
   "source": [
    "# Splitting\n",
    "x_train, x_test, y_train, y_test = train_test_split(x, y, train_size=0.75)\n",
    "\n",
    "# Balancing\n",
    "smote = SMOTE()\n",
    "X_resampled, Y_resampled = smote.fit_resample(x_train, y_train)\n",
    "\n",
    "\n",
    "# Hyperparameter Tuning for Gradient Boosting\n",
    "param_grid = {\n",
    "    'n_estimators': [100, 200, 300],  # Number of boosting stages to be run\n",
    "    'learning_rate': [0.01, 0.1, 0.2],  # Shrinks the contribution of each tree by learning_rate\n",
    "    'max_depth': [3, 4, 5]  # Maximum depth of the individual regression estimators\n",
    "}\n",
    "grid_search = GridSearchCV(estimator=GradientBoostingClassifier(), param_grid=param_grid, cv=5, scoring='accuracy')\n",
    "grid_search.fit(X_resampled, Y_resampled)\n",
    "\n",
    "# Training with the best parameters found\n",
    "gbm_best = grid_search.best_estimator_\n",
    "gbm_best.fit(X_resampled, Y_resampled)\n",
    "predictions = gbm_best.predict(x_test)\n",
    "\n",
    "# Performance evaluation\n",
    "scores = gbm_best.score(x_test, y_test)\n",
    "conf_mtrx = confusion_matrix(y_test, predictions)\n",
    "precision = precision_score(y_test, predictions)\n",
    "recall = recall_score(y_test, predictions)\n",
    "f1 = f1_score(y_test, predictions)\n",
    "\n",
    "# Confusion Matrix Display\n",
    "disp = ConfusionMatrixDisplay(confusion_matrix=conf_mtrx)\n",
    "print('Confusion Matrix')\n",
    "disp.plot(cmap='Blues', include_values=True)\n",
    "plt.show()\n",
    "\n",
    "# Plotting ROC Curve\n",
    "y_pred_proba = gbm_best.predict_proba(x_test)[:, 1]\n",
    "fpr, tpr, thresholds = roc_curve(y_test, y_pred_proba, pos_label=1)\n",
    "roc_auc = auc(fpr, tpr)\n",
    "\n",
    "plt.figure()\n",
    "plt.plot(fpr, tpr, color='darkorange', lw=2, label=f'ROC curve (GBM) (area = {round(roc_auc, 3)})')\n",
    "plt.fill_between(fpr, tpr, color='gray', alpha=0.3)\n",
    "plt.plot([0, 1], [0, 1], color='navy', lw=2, linestyle='--')\n",
    "plt.xlim([0.0, 1.0])\n",
    "plt.ylim([0.0, 1.05])\n",
    "plt.xlabel('False Positive Rate')\n",
    "plt.ylabel('True Positive Rate')\n",
    "plt.title('Receiver Operating Characteristic (ROC) Curve')\n",
    "plt.legend(loc=\"lower right\")\n",
    "plt.show()\n",
    "\n",
    "print('---------------------------')\n",
    "print('Performance Measures')\n",
    "print('---------------------------')\n",
    "print(f'Precision: {precision}')\n",
    "print(f'Recall: {recall}')\n",
    "print(f'F1 Score: {f1}')\n",
    "print(f'Accuracy Score: {scores}')\n",
    "print('-----------------------------')\n",
    "print('Hyperparameter Tuning Results')\n",
    "print('----------------------------')\n",
    "print(f'Best parameters: {grid_search.best_params_}')\n",
    "print(f'Best score: {grid_search.best_score_}')\n",
    "print(f'False Positive rate: {conf_mtrx[0][1] / (conf_mtrx[0][1]+conf_mtrx[0][0])}')"
   ]
  },
  {
   "cell_type": "code",
   "execution_count": null,
   "metadata": {},
   "outputs": [
    {
     "ename": "",
     "evalue": "",
     "output_type": "error",
     "traceback": [
      "\u001b[1;31mRunning cells with 'Python 3.12.1' requires the ipykernel package.\n",
      "\u001b[1;31mRun the following command to install 'ipykernel' into the Python environment. \n",
      "\u001b[1;31mCommand: '/opt/homebrew/bin/python3.12 -m pip install ipykernel -U --user --force-reinstall'"
     ]
    }
   ],
   "source": [
    "gbm_scores = []\n",
    "gbm_train_scores = []\n",
    "gbm_precisions = []\n",
    "gbm_recalls = []\n",
    "gbm_f1_scores = []\n",
    "gbm_conf_matrices = []\n",
    "diff_scores = []  \n",
    "\n",
    "n_iterations = 200\n",
    "\n",
    "for i in range(n_iterations):\n",
    "    # Splitting\n",
    "    x_train, x_test, y_train, y_test = train_test_split(x, y, train_size=0.75)\n",
    "\n",
    "    # Balancing\n",
    "    smote = SMOTE()\n",
    "    X_resampled, Y_resampled = smote.fit_resample(x_train, y_train)\n",
    "\n",
    "    # Hyperparameter Tuning for Gradient Boosting\n",
    "    param_grid = {\n",
    "        'n_estimators': [100, 200, 300],  \n",
    "        'learning_rate': [0.01, 0.1, 0.2], \n",
    "        'max_depth': [3, 4, 5]  \n",
    "    }\n",
    "    grid_search = GridSearchCV(estimator=GradientBoostingClassifier(), param_grid=param_grid, cv=5, scoring='accuracy')\n",
    "    grid_search.fit(X_resampled, Y_resampled)\n",
    "\n",
    "    # Training with the best parameters found\n",
    "    gbm_best = grid_search.best_estimator_\n",
    "    gbm_best.fit(X_resampled, Y_resampled)\n",
    "    train_score = gbm_best.score(X_resampled, Y_resampled)\n",
    "    predictions = gbm_best.predict(x_test)\n",
    "\n",
    "    # Performance evaluation\n",
    "    test_score = gbm_best.score(x_test, y_test)\n",
    "    conf_matrix = confusion_matrix(y_test, predictions)\n",
    "    precision = precision_score(y_test, predictions)\n",
    "    recall = recall_score(y_test, predictions)\n",
    "    f1 = f1_score(y_test, predictions)\n",
    "\n",
    "    # Store metrics\n",
    "    gbm_scores.append(test_score)\n",
    "    gbm_train_scores.append(train_score)\n",
    "    gbm_precisions.append(precision)\n",
    "    gbm_recalls.append(recall)\n",
    "    gbm_f1_scores.append(f1)\n",
    "    gbm_conf_matrices.append(conf_matrix)\n",
    "\n",
    "    # Calculate and store differences\n",
    "    diff_scores.append(train_score - test_score)\n",
    "\n",
    "# Plotting the differences\n",
    "sns.histplot(data=diff_scores, color='coral')\n",
    "plt.title('Training and Test Score Difference')\n",
    "plt.show()"
   ]
  }
 ],
 "metadata": {
  "kernelspec": {
   "display_name": "PythonData",
   "language": "python",
   "name": "python3"
  },
  "language_info": {
   "codemirror_mode": {
    "name": "ipython",
    "version": 3
   },
   "file_extension": ".py",
   "mimetype": "text/x-python",
   "name": "python",
   "nbconvert_exporter": "python",
   "pygments_lexer": "ipython3",
   "version": "3.12.1"
  }
 },
 "nbformat": 4,
 "nbformat_minor": 2
}
